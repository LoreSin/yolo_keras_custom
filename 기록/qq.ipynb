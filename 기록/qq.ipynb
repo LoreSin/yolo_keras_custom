{
 "nbformat": 4,
 "nbformat_minor": 2,
 "metadata": {
  "language_info": {
   "name": "python",
   "codemirror_mode": {
    "name": "ipython",
    "version": 3
   }
  },
  "orig_nbformat": 2,
  "file_extension": ".py",
  "mimetype": "text/x-python",
  "name": "python",
  "npconvert_exporter": "python",
  "pygments_lexer": "ipython3",
  "version": 3
 },
 "cells": [
  {
   "cell_type": "markdown",
   "execution_count": null,
   "metadata": {},
   "outputs": [],
   "source": [
    "\n",
    "## Calc Distance target with Knowing target size\n",
    "\n",
    "$$Target\\ Height = 1.6(m)$$\n",
    "$$Angle\\ Of\\ Camera(A)=2\\theta$$\n",
    "$$Height\\ Rate = Target\\ Height\\ Pixel / Image\\ Height\\ Pixel$$\n",
    "\n",
    "$$Distance=Target\\ Height\\times (Height\\ Rate/\\tan(A))$$"
   ]
  },
  {
   "cell_type": "markdown",
   "execution_count": null,
   "metadata": {},
   "outputs": [],
   "source": [
    "## 계산의 예시\n",
    "\n",
    "- 이미지의 높이: 720p\n",
    "- 이미지상 대상의 높이 : 120p / 실제 1.6m 높이\n",
    "- 카메라의 화각 : 80도 (스마트폰카메라 급)\n",
    "\n",
    "$$Height\\ Rate=120/720 = 1/6$$\n",
    "$$Distance=1.6\\times (1/6 / \\tan(80\\degree)$$"
   ]
  },
  {
   "cell_type": "markdown",
   "execution_count": null,
   "metadata": {},
   "outputs": [],
   "source": [
    "\n",
    "차량높이 = 1.6m 로 간주.\n",
    "\n",
    "detect_height = 검출된 bbox 의 세로크기\n",
    "image_height = 이미지 세로크기\n",
    "대상의 화각크기 = (detect_height / image_height)\n",
    "\n",
    "θ = 2 * angle(화각) * 대상의 화각 크기\n",
    "\n",
    "distance = height_rate / tan(radians(θ))\n"
   ]
  }
 ]
}